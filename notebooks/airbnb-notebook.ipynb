{
 "cells": [
  {
   "cell_type": "markdown",
   "metadata": {},
   "source": [
    "# Maui AirBnB 🌴🏡🌴"
   ]
  },
  {
   "cell_type": "markdown",
   "metadata": {},
   "source": [
    "## Imports 📝"
   ]
  },
  {
   "cell_type": "code",
   "execution_count": null,
   "metadata": {},
   "outputs": [],
   "source": [
    "# 1 - Data Manipulation\n",
    "import pandas as pd\n",
    "import numpy as np\n",
    "import re\n",
    "\n",
    "# 2 - Data Visualisation\n",
    "import matplotlib.pyplot as plt\n",
    "import seaborn as sns"
   ]
  },
  {
   "cell_type": "markdown",
   "metadata": {},
   "source": [
    "## Data Exploration"
   ]
  },
  {
   "cell_type": "code",
   "execution_count": null,
   "metadata": {},
   "outputs": [],
   "source": [
    "# Calling in the data sets and combining them\n",
    "listing_df= pd.read_csv('../raw_data/listings.csv')\n",
    "\n",
    "reviews_df = pd.read_csv('../raw_data/reviews.csv')\n",
    "\n",
    "neighbourhoods_df = pd.read_csv('../raw_data/neighbourhoods.csv')"
   ]
  },
  {
   "cell_type": "code",
   "execution_count": null,
   "metadata": {},
   "outputs": [],
   "source": [
    "#looks like this has all the most pertinate data. \n",
    "listing_df.head(1)\n"
   ]
  },
  {
   "cell_type": "code",
   "execution_count": null,
   "metadata": {},
   "outputs": [],
   "source": [
    "# not sure if i'll need this yet, but we'll see.\n",
    "reviews_df.head(1)"
   ]
  },
  {
   "cell_type": "code",
   "execution_count": null,
   "metadata": {},
   "outputs": [],
   "source": [
    "#looks like this is already in the listing CSV\n",
    "neighbourhoods_df"
   ]
  },
  {
   "cell_type": "code",
   "execution_count": null,
   "metadata": {},
   "outputs": [],
   "source": [
    "#seeing what is what and what needs to be changed\n",
    "listing_df.dtypes\n"
   ]
  },
  {
   "cell_type": "code",
   "execution_count": null,
   "metadata": {},
   "outputs": [],
   "source": [
    "#are there null values?\n",
    "listing_df.isnull()"
   ]
  },
  {
   "cell_type": "markdown",
   "metadata": {},
   "source": [
    "## Data Cleaning 🧼"
   ]
  },
  {
   "cell_type": "code",
   "execution_count": null,
   "metadata": {},
   "outputs": [],
   "source": [
    "#this information can be useful later\n",
    "listing_df.describe()"
   ]
  },
  {
   "cell_type": "code",
   "execution_count": null,
   "metadata": {},
   "outputs": [],
   "source": [
    "# Checking for dulicated\n",
    "listing_df.duplicated().sum()"
   ]
  },
  {
   "cell_type": "code",
   "execution_count": null,
   "metadata": {},
   "outputs": [],
   "source": [
    "#checking for null values per-collumn\n",
    "listing_df.isnull().sum()"
   ]
  },
  {
   "cell_type": "code",
   "execution_count": null,
   "metadata": {},
   "outputs": [],
   "source": [
    "# we don't need \"last review\", \"reviews per month\", or the 'license' as they don't tell us much.\n",
    "listing_df.drop(columns=['last_review', 'reviews_per_month', 'license'], inplace=True)\n",
    "listing_df['host_name'].fillna('Unknown', inplace = True)"
   ]
  },
  {
   "cell_type": "code",
   "execution_count": null,
   "metadata": {},
   "outputs": [],
   "source": [
    "listing_df.head(3)"
   ]
  },
  {
   "cell_type": "code",
   "execution_count": null,
   "metadata": {},
   "outputs": [],
   "source": [
    "listing_df.isnull().sum()"
   ]
  },
  {
   "cell_type": "code",
   "execution_count": null,
   "metadata": {},
   "outputs": [],
   "source": [
    "#we need to get the rating, the beds, bedrooms and baths into there own columns\n",
    "listing_df['name'][1]"
   ]
  },
  {
   "cell_type": "code",
   "execution_count": null,
   "metadata": {},
   "outputs": [],
   "source": [
    "#wrote some python code that will help us break down the 'name' collumn.\n",
    "\n",
    "\n",
    "def split_name(name):\n",
    "    unit_type = re.findall(r'(.*) ·', name)\n",
    "    unit_type = unit_type[0].strip() if unit_type else None\n",
    "\n",
    "    rating = re.findall(r'★([\\d.]+)', name)\n",
    "    rating = float(rating[0]) if rating else None\n",
    "\n",
    "    bedroom_number = re.findall(r'(\\d+) bedrooms?', name)\n",
    "    bedroom_number = int(bedroom_number[0]) if bedroom_number else None\n",
    "\n",
    "    bed_number = re.findall(r'(\\d+) beds?', name)\n",
    "    bed_number = int(bed_number[0]) if bed_number else None\n",
    "\n",
    "    bath_number = re.findall(r'(\\d+) baths?', name)\n",
    "    bath_number = int(bath_number[0]) if bath_number else None\n",
    "\n",
    "\n",
    "    \n",
    "    return unit_type, rating, bedroom_number, bed_number, bath_number"
   ]
  },
  {
   "cell_type": "code",
   "execution_count": null,
   "metadata": {},
   "outputs": [],
   "source": [
    "#we are going to use the above code to iterate through the name column\n",
    "# making 5 more column then we can drop the name column.\n",
    "listing_df[['unit_type', 'rating', 'bedroom_number', 'bed_number', 'bath_number']] = listing_df['name'].apply(split_name).apply(pd.Series)"
   ]
  },
  {
   "cell_type": "code",
   "execution_count": null,
   "metadata": {},
   "outputs": [],
   "source": [
    "#some places don't have ratings because they are new\n",
    "listing_df.tail(3)"
   ]
  },
  {
   "cell_type": "code",
   "execution_count": null,
   "metadata": {},
   "outputs": [],
   "source": [
    "#not we need to fill the nans with zeros as not all of them have these things\n",
    "listing_df.isna().sum()"
   ]
  },
  {
   "cell_type": "code",
   "execution_count": null,
   "metadata": {},
   "outputs": [],
   "source": [
    "#these ones are intergers\n",
    "listing_df['bedroom_number'].fillna(0.0, inplace=True)\n",
    "listing_df['bed_number'].fillna(0.0, inplace=True)\n",
    "listing_df['bath_number'].fillna(0.0,inplace=True)\n",
    "\n",
    "#this will have to be an object\n",
    "listing_df['rating'].fillna('New',inplace=True)"
   ]
  },
  {
   "cell_type": "code",
   "execution_count": null,
   "metadata": {},
   "outputs": [],
   "source": [
    "#checking to see if I missed anything\n",
    "listing_df.isna().sum()"
   ]
  },
  {
   "cell_type": "code",
   "execution_count": null,
   "metadata": {},
   "outputs": [],
   "source": [
    "#the unit didn't work so let's code a little thing to help it\n",
    "def extract_unit_type(unit_type):\n",
    "    if 'in' in unit_type:\n",
    "        unit_type = unit_type.split('in')[0].strip()\n",
    "    return unit_type\n",
    "\n",
    "# Apply the function to the 'unit type' column and store the results in a new column\n",
    "listing_df['unit type'] = listing_df['unit_type'].apply(extract_unit_type)"
   ]
  },
  {
   "cell_type": "code",
   "execution_count": null,
   "metadata": {},
   "outputs": [],
   "source": [
    "listing_df['unit type']"
   ]
  },
  {
   "cell_type": "code",
   "execution_count": null,
   "metadata": {},
   "outputs": [],
   "source": [
    "listing_df.head(3)"
   ]
  },
  {
   "cell_type": "code",
   "execution_count": null,
   "metadata": {},
   "outputs": [],
   "source": [
    "# okay now we can drop unecessary columns again\n",
    "listing_df.drop(columns=['name', 'unit_type'], inplace = True)"
   ]
  },
  {
   "cell_type": "code",
   "execution_count": null,
   "metadata": {},
   "outputs": [],
   "source": [
    "listing_df.head(3)"
   ]
  },
  {
   "cell_type": "code",
   "execution_count": null,
   "metadata": {},
   "outputs": [],
   "source": [
    "listing_df['neighbourhood_group'].unique()"
   ]
  },
  {
   "cell_type": "code",
   "execution_count": null,
   "metadata": {},
   "outputs": [],
   "source": [
    "# so now we want the maui only neighbourhoods\n",
    "# but we can seperate them other islands for later use.\n",
    "maui_df = listing_df[listing_df['neighbourhood_group'] == 'Maui']\n",
    "honolulu_df = listing_df[listing_df['neighbourhood_group'] == 'Honolulu']\n",
    "Hawaii_df = listing_df[listing_df['neighbourhood_group'] == 'Hawaii']\n",
    "Kauai_df = listing_df[listing_df['neighbourhood_group'] == 'Kauai']"
   ]
  },
  {
   "cell_type": "code",
   "execution_count": null,
   "metadata": {},
   "outputs": [],
   "source": [
    "maui_df.dtypes"
   ]
  },
  {
   "cell_type": "code",
   "execution_count": null,
   "metadata": {},
   "outputs": [],
   "source": [
    "# let's turn this data set into it's own CSV file to use in other apps\n",
    "maui_df.to_csv('maui_dataset.csv',index=False)"
   ]
  },
  {
   "cell_type": "code",
   "execution_count": null,
   "metadata": {},
   "outputs": [],
   "source": [
    "honolulu_df.to_csv('honolulu_dataset.csv',index=False)\n",
    "Hawaii_df.to_csv('hawaii_dataset.csv',index=False)\n",
    "Kauai_df.to_csv('kauai_dataset.csv',index=False)"
   ]
  },
  {
   "cell_type": "markdown",
   "metadata": {},
   "source": [
    "# Pull the Maui Data Set into Tableau\n"
   ]
  },
  {
   "cell_type": "markdown",
   "metadata": {},
   "source": []
  }
 ],
 "metadata": {
  "kernelspec": {
   "display_name": "py3.11.4",
   "language": "python",
   "name": "python3"
  },
  "language_info": {
   "codemirror_mode": {
    "name": "ipython",
    "version": 3
   },
   "file_extension": ".py",
   "mimetype": "text/x-python",
   "name": "python",
   "nbconvert_exporter": "python",
   "pygments_lexer": "ipython3",
   "version": "3.11.4"
  },
  "orig_nbformat": 4
 },
 "nbformat": 4,
 "nbformat_minor": 2
}
